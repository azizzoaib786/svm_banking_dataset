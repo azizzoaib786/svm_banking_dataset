{
 "cells": [
  {
   "cell_type": "markdown",
   "metadata": {},
   "source": [
    "# SVM (Suppurt Vector Machine) - Banking Credit Cards Eligibility Prediction\n",
    "\n",
    "#### The goal of this notebook is to use SVM classification model on banking dataset to classify the customers if they are eligible for credit card or not?\n",
    "\n",
    "### Introduction of SVM\n",
    "\n",
    "SVM works by mapping data to a high-dimensional feature space so that data points can be categorized, even when the data are not otherwise linearly separable. A separator between the categories is found, then the data is transformed in such a way that the separator could be drawn as a hyperplane. Following this, characteristics of new data can be used to predict the group to which a new record should belong.\n",
    "\n",
    "SVM chooses the extreme points/vectors that help in creating the hyperplane. These extreme cases are called as support vectors, and hence algorithm is termed as Support Vector Machine."
   ]
  },
  {
   "cell_type": "code",
   "execution_count": 20,
   "metadata": {},
   "outputs": [],
   "source": [
    "# Importing the necessary packages\n",
    "\n",
    "import numpy as np\n",
    "import pandas as pd\n",
    "import os\n",
    "\n",
    "import seaborn as sns\n",
    "import matplotlib.pyplot as plt\n",
    "\n",
    "%matplotlib inline\n",
    "\n",
    "import sklearn\n",
    "from sklearn.metrics import accuracy_score\n",
    "from sklearn.preprocessing import StandardScaler\n",
    "from sklearn.model_selection import train_test_split, GridSearchCV, cross_val_score\n",
    "from sklearn.metrics import f1_score, recall_score, precision_score, confusion_matrix\n",
    "from sklearn.metrics import r2_score, roc_auc_score, roc_curve, classification_report\n",
    "from sklearn.svm import SVC\n",
    "\n",
    "import warnings\n",
    "\n",
    "warnings.filterwarnings(\"ignore\")"
   ]
  },
  {
   "cell_type": "markdown",
   "metadata": {},
   "source": [
    "### Downloading the dataset"
   ]
  },
  {
   "cell_type": "code",
   "execution_count": 21,
   "metadata": {},
   "outputs": [
    {
     "name": "stdout",
     "output_type": "stream",
     "text": [
      "bank-data.csv already exists.\n"
     ]
    }
   ],
   "source": [
    "# Helper function with dataset download on the go!\n",
    "\n",
    "filename = \"bank-data.csv\"\n",
    "\n",
    "def getDataset(filename, **kwargs):\n",
    "    url = f\"https://raw.githubusercontent.com/azizzoaib786/svm-banking-dataset/main/{filename}\"\n",
    "    try:\n",
    "        if filename not in os.listdir():\n",
    "            # Install wget if not already installed\n",
    "            try:\n",
    "                import wget\n",
    "            except ImportError:\n",
    "                !pip install wget\n",
    "                import wget\n",
    "\n",
    "            # Download the file\n",
    "            wget.download(url, filename)\n",
    "            print(f\"\\n{filename} file downloaded successfully.\")\n",
    "        else:\n",
    "            print(f\"{filename} already exists.\")\n",
    "        return pd.read_csv(filename, **kwargs)\n",
    "    except Exception as e:\n",
    "        print(e)\n",
    "        return pd.read_csv(url, **kwargs)\n",
    "\n",
    "data = getDataset(filename, encoding=\"unicode_escape\")"
   ]
  },
  {
   "cell_type": "markdown",
   "metadata": {},
   "source": [
    "### Feature Explanation\n",
    "\n",
    "ID: Unique identifier\n",
    "\n",
    "Age: Customer’s age\n",
    "\n",
    "Experience: Number of years of profession experience\n",
    "\n",
    "Income: Annual income of the customer ($000)\n",
    "\n",
    "ZipCode: Home address zip code\n",
    "\n",
    "Family: Family size of customer\n",
    "\n",
    "CCAvg: Average spending on credit cards per month ($000)\n",
    "\n",
    "Education: Education level (1) undergraduate, (2) graduate, (3) advanced/professional\n",
    "\n",
    "Mortgage: Value of house mortgage ($000)\n",
    "\n",
    "Personal Loan(y): Did the customer accept the personal load offered (1=Yes, 0=No)\n",
    "\n",
    "Securities Account: Does the customer have a securities account with the bank? (1=Yes, 0=No)\n",
    "\n",
    "CD Account: Does the customer have a certificate of deposit with the bank? (1=Yes, 0=No)\n",
    "\n",
    "Online: Does the customer use Internet banking facilities (1=Yes, 0=No)\n",
    "\n",
    "CreditCard: Does the customer use a credit card issued by Universal Bank? (1=Yes, 0=No)"
   ]
  },
  {
   "cell_type": "markdown",
   "metadata": {},
   "source": [
    "### EDA on the dataset"
   ]
  },
  {
   "cell_type": "code",
   "execution_count": 22,
   "metadata": {},
   "outputs": [
    {
     "data": {
      "text/html": [
       "<div>\n",
       "<style scoped>\n",
       "    .dataframe tbody tr th:only-of-type {\n",
       "        vertical-align: middle;\n",
       "    }\n",
       "\n",
       "    .dataframe tbody tr th {\n",
       "        vertical-align: top;\n",
       "    }\n",
       "\n",
       "    .dataframe thead th {\n",
       "        text-align: right;\n",
       "    }\n",
       "</style>\n",
       "<table border=\"1\" class=\"dataframe\">\n",
       "  <thead>\n",
       "    <tr style=\"text-align: right;\">\n",
       "      <th></th>\n",
       "      <th>ID</th>\n",
       "      <th>Age</th>\n",
       "      <th>Experience</th>\n",
       "      <th>Income</th>\n",
       "      <th>ZIP Code</th>\n",
       "      <th>Family</th>\n",
       "      <th>CCAvg</th>\n",
       "      <th>Education</th>\n",
       "      <th>Mortgage</th>\n",
       "      <th>Personal Loan</th>\n",
       "      <th>Securities Account</th>\n",
       "      <th>CD Account</th>\n",
       "      <th>Online</th>\n",
       "      <th>CreditCard</th>\n",
       "    </tr>\n",
       "  </thead>\n",
       "  <tbody>\n",
       "    <tr>\n",
       "      <th>0</th>\n",
       "      <td>1</td>\n",
       "      <td>25</td>\n",
       "      <td>1</td>\n",
       "      <td>49</td>\n",
       "      <td>91107</td>\n",
       "      <td>4</td>\n",
       "      <td>1.6</td>\n",
       "      <td>1</td>\n",
       "      <td>0</td>\n",
       "      <td>0</td>\n",
       "      <td>1</td>\n",
       "      <td>0</td>\n",
       "      <td>0</td>\n",
       "      <td>0</td>\n",
       "    </tr>\n",
       "    <tr>\n",
       "      <th>1</th>\n",
       "      <td>2</td>\n",
       "      <td>45</td>\n",
       "      <td>19</td>\n",
       "      <td>34</td>\n",
       "      <td>90089</td>\n",
       "      <td>3</td>\n",
       "      <td>1.5</td>\n",
       "      <td>1</td>\n",
       "      <td>0</td>\n",
       "      <td>0</td>\n",
       "      <td>1</td>\n",
       "      <td>0</td>\n",
       "      <td>0</td>\n",
       "      <td>0</td>\n",
       "    </tr>\n",
       "    <tr>\n",
       "      <th>2</th>\n",
       "      <td>3</td>\n",
       "      <td>39</td>\n",
       "      <td>15</td>\n",
       "      <td>11</td>\n",
       "      <td>94720</td>\n",
       "      <td>1</td>\n",
       "      <td>1.0</td>\n",
       "      <td>1</td>\n",
       "      <td>0</td>\n",
       "      <td>0</td>\n",
       "      <td>0</td>\n",
       "      <td>0</td>\n",
       "      <td>0</td>\n",
       "      <td>0</td>\n",
       "    </tr>\n",
       "    <tr>\n",
       "      <th>3</th>\n",
       "      <td>4</td>\n",
       "      <td>35</td>\n",
       "      <td>9</td>\n",
       "      <td>100</td>\n",
       "      <td>94112</td>\n",
       "      <td>1</td>\n",
       "      <td>2.7</td>\n",
       "      <td>2</td>\n",
       "      <td>0</td>\n",
       "      <td>0</td>\n",
       "      <td>0</td>\n",
       "      <td>0</td>\n",
       "      <td>0</td>\n",
       "      <td>0</td>\n",
       "    </tr>\n",
       "    <tr>\n",
       "      <th>4</th>\n",
       "      <td>5</td>\n",
       "      <td>35</td>\n",
       "      <td>8</td>\n",
       "      <td>45</td>\n",
       "      <td>91330</td>\n",
       "      <td>4</td>\n",
       "      <td>1.0</td>\n",
       "      <td>2</td>\n",
       "      <td>0</td>\n",
       "      <td>0</td>\n",
       "      <td>0</td>\n",
       "      <td>0</td>\n",
       "      <td>0</td>\n",
       "      <td>1</td>\n",
       "    </tr>\n",
       "  </tbody>\n",
       "</table>\n",
       "</div>"
      ],
      "text/plain": [
       "   ID  Age  Experience  Income  ZIP Code  Family  CCAvg  Education  Mortgage  \\\n",
       "0   1   25           1      49     91107       4    1.6          1         0   \n",
       "1   2   45          19      34     90089       3    1.5          1         0   \n",
       "2   3   39          15      11     94720       1    1.0          1         0   \n",
       "3   4   35           9     100     94112       1    2.7          2         0   \n",
       "4   5   35           8      45     91330       4    1.0          2         0   \n",
       "\n",
       "   Personal Loan  Securities Account  CD Account  Online  CreditCard  \n",
       "0              0                   1           0       0           0  \n",
       "1              0                   1           0       0           0  \n",
       "2              0                   0           0       0           0  \n",
       "3              0                   0           0       0           0  \n",
       "4              0                   0           0       0           1  "
      ]
     },
     "execution_count": 22,
     "metadata": {},
     "output_type": "execute_result"
    }
   ],
   "source": [
    "# Check the head of the data\n",
    "data.head()"
   ]
  },
  {
   "cell_type": "code",
   "execution_count": 23,
   "metadata": {},
   "outputs": [
    {
     "data": {
      "text/plain": [
       "ID                    0\n",
       "Age                   0\n",
       "Experience            0\n",
       "Income                0\n",
       "ZIP Code              0\n",
       "Family                0\n",
       "CCAvg                 0\n",
       "Education             0\n",
       "Mortgage              0\n",
       "Personal Loan         0\n",
       "Securities Account    0\n",
       "CD Account            0\n",
       "Online                0\n",
       "CreditCard            0\n",
       "dtype: int64"
      ]
     },
     "execution_count": 23,
     "metadata": {},
     "output_type": "execute_result"
    }
   ],
   "source": [
    "# Check for null values\n",
    "data.isnull().sum()"
   ]
  },
  {
   "cell_type": "code",
   "execution_count": 24,
   "metadata": {},
   "outputs": [
    {
     "data": {
      "text/plain": [
       "ID                    0\n",
       "Age                   0\n",
       "Experience            0\n",
       "Income                0\n",
       "ZIP Code              0\n",
       "Family                0\n",
       "CCAvg                 0\n",
       "Education             0\n",
       "Mortgage              0\n",
       "Personal Loan         0\n",
       "Securities Account    0\n",
       "CD Account            0\n",
       "Online                0\n",
       "CreditCard            0\n",
       "dtype: int64"
      ]
     },
     "execution_count": 24,
     "metadata": {},
     "output_type": "execute_result"
    }
   ],
   "source": [
    "# Check for null values\n",
    "data.isnull().sum()"
   ]
  },
  {
   "cell_type": "code",
   "execution_count": 25,
   "metadata": {},
   "outputs": [
    {
     "data": {
      "text/html": [
       "<div>\n",
       "<style scoped>\n",
       "    .dataframe tbody tr th:only-of-type {\n",
       "        vertical-align: middle;\n",
       "    }\n",
       "\n",
       "    .dataframe tbody tr th {\n",
       "        vertical-align: top;\n",
       "    }\n",
       "\n",
       "    .dataframe thead th {\n",
       "        text-align: right;\n",
       "    }\n",
       "</style>\n",
       "<table border=\"1\" class=\"dataframe\">\n",
       "  <thead>\n",
       "    <tr style=\"text-align: right;\">\n",
       "      <th></th>\n",
       "      <th>ID</th>\n",
       "      <th>Age</th>\n",
       "      <th>Experience</th>\n",
       "      <th>Income</th>\n",
       "      <th>ZIP Code</th>\n",
       "      <th>Family</th>\n",
       "      <th>CCAvg</th>\n",
       "      <th>Education</th>\n",
       "      <th>Mortgage</th>\n",
       "      <th>Personal Loan</th>\n",
       "      <th>Securities Account</th>\n",
       "      <th>CD Account</th>\n",
       "      <th>Online</th>\n",
       "      <th>CreditCard</th>\n",
       "    </tr>\n",
       "  </thead>\n",
       "  <tbody>\n",
       "    <tr>\n",
       "      <th>count</th>\n",
       "      <td>5000.000000</td>\n",
       "      <td>5000.000000</td>\n",
       "      <td>5000.000000</td>\n",
       "      <td>5000.000000</td>\n",
       "      <td>5000.000000</td>\n",
       "      <td>5000.000000</td>\n",
       "      <td>5000.000000</td>\n",
       "      <td>5000.000000</td>\n",
       "      <td>5000.000000</td>\n",
       "      <td>5000.000000</td>\n",
       "      <td>5000.000000</td>\n",
       "      <td>5000.00000</td>\n",
       "      <td>5000.000000</td>\n",
       "      <td>5000.000000</td>\n",
       "    </tr>\n",
       "    <tr>\n",
       "      <th>mean</th>\n",
       "      <td>2500.500000</td>\n",
       "      <td>45.338400</td>\n",
       "      <td>20.104600</td>\n",
       "      <td>73.774200</td>\n",
       "      <td>93152.503000</td>\n",
       "      <td>2.396400</td>\n",
       "      <td>1.937913</td>\n",
       "      <td>1.881000</td>\n",
       "      <td>56.498800</td>\n",
       "      <td>0.096000</td>\n",
       "      <td>0.104400</td>\n",
       "      <td>0.06040</td>\n",
       "      <td>0.596800</td>\n",
       "      <td>0.294000</td>\n",
       "    </tr>\n",
       "    <tr>\n",
       "      <th>std</th>\n",
       "      <td>1443.520003</td>\n",
       "      <td>11.463166</td>\n",
       "      <td>11.467954</td>\n",
       "      <td>46.033729</td>\n",
       "      <td>2121.852197</td>\n",
       "      <td>1.147663</td>\n",
       "      <td>1.747666</td>\n",
       "      <td>0.839869</td>\n",
       "      <td>101.713802</td>\n",
       "      <td>0.294621</td>\n",
       "      <td>0.305809</td>\n",
       "      <td>0.23825</td>\n",
       "      <td>0.490589</td>\n",
       "      <td>0.455637</td>\n",
       "    </tr>\n",
       "    <tr>\n",
       "      <th>min</th>\n",
       "      <td>1.000000</td>\n",
       "      <td>23.000000</td>\n",
       "      <td>-3.000000</td>\n",
       "      <td>8.000000</td>\n",
       "      <td>9307.000000</td>\n",
       "      <td>1.000000</td>\n",
       "      <td>0.000000</td>\n",
       "      <td>1.000000</td>\n",
       "      <td>0.000000</td>\n",
       "      <td>0.000000</td>\n",
       "      <td>0.000000</td>\n",
       "      <td>0.00000</td>\n",
       "      <td>0.000000</td>\n",
       "      <td>0.000000</td>\n",
       "    </tr>\n",
       "    <tr>\n",
       "      <th>25%</th>\n",
       "      <td>1250.750000</td>\n",
       "      <td>35.000000</td>\n",
       "      <td>10.000000</td>\n",
       "      <td>39.000000</td>\n",
       "      <td>91911.000000</td>\n",
       "      <td>1.000000</td>\n",
       "      <td>0.700000</td>\n",
       "      <td>1.000000</td>\n",
       "      <td>0.000000</td>\n",
       "      <td>0.000000</td>\n",
       "      <td>0.000000</td>\n",
       "      <td>0.00000</td>\n",
       "      <td>0.000000</td>\n",
       "      <td>0.000000</td>\n",
       "    </tr>\n",
       "    <tr>\n",
       "      <th>50%</th>\n",
       "      <td>2500.500000</td>\n",
       "      <td>45.000000</td>\n",
       "      <td>20.000000</td>\n",
       "      <td>64.000000</td>\n",
       "      <td>93437.000000</td>\n",
       "      <td>2.000000</td>\n",
       "      <td>1.500000</td>\n",
       "      <td>2.000000</td>\n",
       "      <td>0.000000</td>\n",
       "      <td>0.000000</td>\n",
       "      <td>0.000000</td>\n",
       "      <td>0.00000</td>\n",
       "      <td>1.000000</td>\n",
       "      <td>0.000000</td>\n",
       "    </tr>\n",
       "    <tr>\n",
       "      <th>75%</th>\n",
       "      <td>3750.250000</td>\n",
       "      <td>55.000000</td>\n",
       "      <td>30.000000</td>\n",
       "      <td>98.000000</td>\n",
       "      <td>94608.000000</td>\n",
       "      <td>3.000000</td>\n",
       "      <td>2.500000</td>\n",
       "      <td>3.000000</td>\n",
       "      <td>101.000000</td>\n",
       "      <td>0.000000</td>\n",
       "      <td>0.000000</td>\n",
       "      <td>0.00000</td>\n",
       "      <td>1.000000</td>\n",
       "      <td>1.000000</td>\n",
       "    </tr>\n",
       "    <tr>\n",
       "      <th>max</th>\n",
       "      <td>5000.000000</td>\n",
       "      <td>67.000000</td>\n",
       "      <td>43.000000</td>\n",
       "      <td>224.000000</td>\n",
       "      <td>96651.000000</td>\n",
       "      <td>4.000000</td>\n",
       "      <td>10.000000</td>\n",
       "      <td>3.000000</td>\n",
       "      <td>635.000000</td>\n",
       "      <td>1.000000</td>\n",
       "      <td>1.000000</td>\n",
       "      <td>1.00000</td>\n",
       "      <td>1.000000</td>\n",
       "      <td>1.000000</td>\n",
       "    </tr>\n",
       "  </tbody>\n",
       "</table>\n",
       "</div>"
      ],
      "text/plain": [
       "                ID          Age   Experience       Income      ZIP Code  \\\n",
       "count  5000.000000  5000.000000  5000.000000  5000.000000   5000.000000   \n",
       "mean   2500.500000    45.338400    20.104600    73.774200  93152.503000   \n",
       "std    1443.520003    11.463166    11.467954    46.033729   2121.852197   \n",
       "min       1.000000    23.000000    -3.000000     8.000000   9307.000000   \n",
       "25%    1250.750000    35.000000    10.000000    39.000000  91911.000000   \n",
       "50%    2500.500000    45.000000    20.000000    64.000000  93437.000000   \n",
       "75%    3750.250000    55.000000    30.000000    98.000000  94608.000000   \n",
       "max    5000.000000    67.000000    43.000000   224.000000  96651.000000   \n",
       "\n",
       "            Family        CCAvg    Education     Mortgage  Personal Loan  \\\n",
       "count  5000.000000  5000.000000  5000.000000  5000.000000    5000.000000   \n",
       "mean      2.396400     1.937913     1.881000    56.498800       0.096000   \n",
       "std       1.147663     1.747666     0.839869   101.713802       0.294621   \n",
       "min       1.000000     0.000000     1.000000     0.000000       0.000000   \n",
       "25%       1.000000     0.700000     1.000000     0.000000       0.000000   \n",
       "50%       2.000000     1.500000     2.000000     0.000000       0.000000   \n",
       "75%       3.000000     2.500000     3.000000   101.000000       0.000000   \n",
       "max       4.000000    10.000000     3.000000   635.000000       1.000000   \n",
       "\n",
       "       Securities Account  CD Account       Online   CreditCard  \n",
       "count         5000.000000  5000.00000  5000.000000  5000.000000  \n",
       "mean             0.104400     0.06040     0.596800     0.294000  \n",
       "std              0.305809     0.23825     0.490589     0.455637  \n",
       "min              0.000000     0.00000     0.000000     0.000000  \n",
       "25%              0.000000     0.00000     0.000000     0.000000  \n",
       "50%              0.000000     0.00000     1.000000     0.000000  \n",
       "75%              0.000000     0.00000     1.000000     1.000000  \n",
       "max              1.000000     1.00000     1.000000     1.000000  "
      ]
     },
     "execution_count": 25,
     "metadata": {},
     "output_type": "execute_result"
    }
   ],
   "source": [
    "# Check the statistics of the data\n",
    "data.describe()"
   ]
  },
  {
   "cell_type": "code",
   "execution_count": 26,
   "metadata": {},
   "outputs": [
    {
     "name": "stdout",
     "output_type": "stream",
     "text": [
      "52\n"
     ]
    }
   ],
   "source": [
    "negative_experience = len(data[data['Experience'] < 0 ])\n",
    "print(negative_experience)"
   ]
  },
  {
   "cell_type": "markdown",
   "metadata": {},
   "source": [
    "##### Based on the above stats of our dataset, we are going to perform below processing on the dataset.\n",
    "\n",
    "1. `ID` is the unique column and every customer has a unqiue value which is not required in our model training, so we are going to drop it.\n",
    "2. `ZIP Code` is again the same feature which is based on the area and the building, we do not require this as well for our model training hence we are going to drop it.\n",
    "3. `Experience` feature cannot have *negative* values, minimum value should be 0 but we can see that it has -3 and there are some entries with -1 and -2 as well. We are going to set them as 0 for all the negative values. In total 52 rows will be impacted."
   ]
  },
  {
   "cell_type": "code",
   "execution_count": 27,
   "metadata": {},
   "outputs": [],
   "source": [
    "# Set 0 for negative Experience values\n",
    "data['Experience'] = data['Experience'].apply(lambda x : x if x > 0 else 0 )\n",
    "\n",
    "# Drop ID and Zip Code from dataset\n",
    "data.drop(['ID' , 'ZIP Code'] , axis=1 , inplace=True)"
   ]
  },
  {
   "cell_type": "markdown",
   "metadata": {},
   "source": [
    "##### Finally we have the completed the EDA and now we are going to Visualize the data and perform further processing."
   ]
  },
  {
   "cell_type": "markdown",
   "metadata": {},
   "source": [
    "### Visualization of the Data\n",
    "\n",
    "#### Heatmap"
   ]
  },
  {
   "cell_type": "code",
   "execution_count": 28,
   "metadata": {},
   "outputs": [
    {
     "data": {
      "text/plain": [
       "<Axes: title={'center': 'Heatmap showing Correlation between all the features'}>"
      ]
     },
     "execution_count": 28,
     "metadata": {},
     "output_type": "execute_result"
    },
    {
     "data": {
      "image/png": "[encoded data removed]",
      "text/plain": [
       "<Figure size 1500x800 with 2 Axes>"
      ]
     },
     "metadata": {},
     "output_type": "display_data"
    }
   ],
   "source": [
    "plt.figure(figsize=(15,8))\n",
    "plt.title(\"Heatmap showing Correlation between all the features\", fontsize=20)\n",
    "sns.heatmap(data.corr(),annot = True, cmap='mako')"
   ]
  },
  {
   "cell_type": "markdown",
   "metadata": {},
   "source": [
    "##### Based on the above coorelation matrix, I conclude below 2 points\n",
    "\n",
    "1. There is no need to use PCA here as I do not see high coorelation between the features except `Experience` vs `Age`.\n",
    "2. Samples are much larger than features, hence PCA is not required."
   ]
  },
  {
   "cell_type": "markdown",
   "metadata": {},
   "source": [
    "### Data Scaling\n",
    "\n",
    "#### Standardization"
   ]
  },
  {
   "cell_type": "code",
   "execution_count": 29,
   "metadata": {},
   "outputs": [
    {
     "data": {
      "text/html": [
       "<div>\n",
       "<style scoped>\n",
       "    .dataframe tbody tr th:only-of-type {\n",
       "        vertical-align: middle;\n",
       "    }\n",
       "\n",
       "    .dataframe tbody tr th {\n",
       "        vertical-align: top;\n",
       "    }\n",
       "\n",
       "    .dataframe thead th {\n",
       "        text-align: right;\n",
       "    }\n",
       "</style>\n",
       "<table border=\"1\" class=\"dataframe\">\n",
       "  <thead>\n",
       "    <tr style=\"text-align: right;\">\n",
       "      <th></th>\n",
       "      <th>Age</th>\n",
       "      <th>Experience</th>\n",
       "      <th>Income</th>\n",
       "      <th>Family</th>\n",
       "      <th>CCAvg</th>\n",
       "      <th>Education</th>\n",
       "      <th>Mortgage</th>\n",
       "      <th>Personal Loan</th>\n",
       "      <th>Securities Account</th>\n",
       "      <th>CD Account</th>\n",
       "      <th>Online</th>\n",
       "    </tr>\n",
       "  </thead>\n",
       "  <tbody>\n",
       "    <tr>\n",
       "      <th>0</th>\n",
       "      <td>-1.774417</td>\n",
       "      <td>-1.671390</td>\n",
       "      <td>-0.538229</td>\n",
       "      <td>1.397414</td>\n",
       "      <td>-0.193371</td>\n",
       "      <td>-1.049078</td>\n",
       "      <td>-0.555524</td>\n",
       "      <td>-0.325875</td>\n",
       "      <td>2.928915</td>\n",
       "      <td>-0.25354</td>\n",
       "      <td>-1.216618</td>\n",
       "    </tr>\n",
       "    <tr>\n",
       "      <th>1</th>\n",
       "      <td>-0.029524</td>\n",
       "      <td>-0.097873</td>\n",
       "      <td>-0.864109</td>\n",
       "      <td>0.525991</td>\n",
       "      <td>-0.250595</td>\n",
       "      <td>-1.049078</td>\n",
       "      <td>-0.555524</td>\n",
       "      <td>-0.325875</td>\n",
       "      <td>2.928915</td>\n",
       "      <td>-0.25354</td>\n",
       "      <td>-1.216618</td>\n",
       "    </tr>\n",
       "    <tr>\n",
       "      <th>2</th>\n",
       "      <td>-0.552992</td>\n",
       "      <td>-0.447543</td>\n",
       "      <td>-1.363793</td>\n",
       "      <td>-1.216855</td>\n",
       "      <td>-0.536720</td>\n",
       "      <td>-1.049078</td>\n",
       "      <td>-0.555524</td>\n",
       "      <td>-0.325875</td>\n",
       "      <td>-0.341423</td>\n",
       "      <td>-0.25354</td>\n",
       "      <td>-1.216618</td>\n",
       "    </tr>\n",
       "    <tr>\n",
       "      <th>3</th>\n",
       "      <td>-0.901970</td>\n",
       "      <td>-0.972049</td>\n",
       "      <td>0.569765</td>\n",
       "      <td>-1.216855</td>\n",
       "      <td>0.436103</td>\n",
       "      <td>0.141703</td>\n",
       "      <td>-0.555524</td>\n",
       "      <td>-0.325875</td>\n",
       "      <td>-0.341423</td>\n",
       "      <td>-0.25354</td>\n",
       "      <td>-1.216618</td>\n",
       "    </tr>\n",
       "    <tr>\n",
       "      <th>4</th>\n",
       "      <td>-0.901970</td>\n",
       "      <td>-1.059467</td>\n",
       "      <td>-0.625130</td>\n",
       "      <td>1.397414</td>\n",
       "      <td>-0.536720</td>\n",
       "      <td>0.141703</td>\n",
       "      <td>-0.555524</td>\n",
       "      <td>-0.325875</td>\n",
       "      <td>-0.341423</td>\n",
       "      <td>-0.25354</td>\n",
       "      <td>-1.216618</td>\n",
       "    </tr>\n",
       "  </tbody>\n",
       "</table>\n",
       "</div>"
      ],
      "text/plain": [
       "        Age  Experience    Income    Family     CCAvg  Education  Mortgage  \\\n",
       "0 -1.774417   -1.671390 -0.538229  1.397414 -0.193371  -1.049078 -0.555524   \n",
       "1 -0.029524   -0.097873 -0.864109  0.525991 -0.250595  -1.049078 -0.555524   \n",
       "2 -0.552992   -0.447543 -1.363793 -1.216855 -0.536720  -1.049078 -0.555524   \n",
       "3 -0.901970   -0.972049  0.569765 -1.216855  0.436103   0.141703 -0.555524   \n",
       "4 -0.901970   -1.059467 -0.625130  1.397414 -0.536720   0.141703 -0.555524   \n",
       "\n",
       "   Personal Loan  Securities Account  CD Account    Online  \n",
       "0      -0.325875            2.928915    -0.25354 -1.216618  \n",
       "1      -0.325875            2.928915    -0.25354 -1.216618  \n",
       "2      -0.325875           -0.341423    -0.25354 -1.216618  \n",
       "3      -0.325875           -0.341423    -0.25354 -1.216618  \n",
       "4      -0.325875           -0.341423    -0.25354 -1.216618  "
      ]
     },
     "execution_count": 29,
     "metadata": {},
     "output_type": "execute_result"
    }
   ],
   "source": [
    "# Scaling the data using StandardScaler\n",
    "standard_scaler = StandardScaler()\n",
    "scaled = standard_scaler.fit(data.drop('CreditCard',axis=1)).transform(data.drop('CreditCard',axis=1))\n",
    "data_scaled = pd.DataFrame(scaled, columns=data.columns[:-1])\n",
    "\n",
    "data_scaled.head()"
   ]
  },
  {
   "cell_type": "markdown",
   "metadata": {},
   "source": [
    "### Model Implementation\n",
    "\n",
    "### SVM (Support Vector Machine)"
   ]
  },
  {
   "cell_type": "code",
   "execution_count": 30,
   "metadata": {},
   "outputs": [
    {
     "name": "stdout",
     "output_type": "stream",
     "text": [
      "Accuracy Score: 0.7630\n",
      "SVC f1-score  : 0.3130\n",
      "SVC precision : 0.1922\n",
      "SVC recall    : 0.8438\n",
      "\n",
      "               precision    recall  f1-score   support\n",
      "\n",
      "           0       0.99      0.76      0.86       936\n",
      "           1       0.19      0.84      0.31        64\n",
      "\n",
      "    accuracy                           0.76      1000\n",
      "   macro avg       0.59      0.80      0.58      1000\n",
      "weighted avg       0.94      0.76      0.82      1000\n",
      "\n"
     ]
    }
   ],
   "source": [
    "# Splitting the columns in to dependent variable (x) and independent variable (y).\n",
    "\n",
    "x = data_scaled\n",
    "y = data['CreditCard']\n",
    "\n",
    "x_train, x_test, y_train, y_test = train_test_split(x, y, test_size=0.2, random_state=10)\n",
    "\n",
    "svc=SVC(kernel='linear') \n",
    "svc.fit(x_train, y_train)\n",
    "y_pred=svc.predict(x_test)\n",
    "\n",
    "print(\"Accuracy Score: {:.4f}\".format(accuracy_score(y_test, y_pred)))\n",
    "print(\"SVC f1-score  : {:.4f}\".format(f1_score(y_pred, y_test)))\n",
    "print(\"SVC precision : {:.4f}\".format(precision_score(y_pred, y_test)))\n",
    "print(\"SVC recall    : {:.4f}\".format(recall_score(y_pred, y_test)))\n",
    "print(\"\\n\", classification_report(y_pred, y_test))"
   ]
  },
  {
   "cell_type": "markdown",
   "metadata": {},
   "source": [
    "##### Based on the above classification report we have average accuracy of 76% but f1, recall and precision is not good for 1s in the dataset. I'll try below methods to improve the accuracy score.\n",
    "\n",
    "1. Hyperparameter search and use of different kernels\n",
    "2. Use of SMOTE ((Synthetic Minority Oversampling Technique) process"
   ]
  },
  {
   "cell_type": "markdown",
   "metadata": {},
   "source": [
    "#### Hyperparameter Search\n",
    "\n",
    "##### Since I have large dataset, I'm going to take the 10% of the data and do the hyperparameter search on it because its going to kill my computer on 60K+ rows"
   ]
  },
  {
   "cell_type": "code",
   "execution_count": 31,
   "metadata": {},
   "outputs": [
    {
     "data": {
      "text/plain": [
       "{'C': 0.1, 'gamma': 0.1, 'kernel': 'poly'}"
      ]
     },
     "execution_count": 31,
     "metadata": {},
     "output_type": "execute_result"
    }
   ],
   "source": [
    "#Use 20% of the data\n",
    "x_small, _, y_small, _ = train_test_split(x_train, y_train, train_size=0.2)\n",
    "\n",
    "# Find best parameters with SVC\n",
    "kernels = list([\"linear\", \"rbf\", \"poly\", \"sigmoid\"])\n",
    "c = list([0.001, 0.01, 0.1, 1])\n",
    "gammas = list([0.1, 1])\n",
    "\n",
    "svc = SVC()\n",
    "svc.fit(x_train, y_train)\n",
    "\n",
    "\n",
    "param_grid = dict(kernel=kernels, C=c, gamma=gammas)\n",
    "grid = GridSearchCV(svc, param_grid, cv=10, n_jobs=-1)\n",
    "grid.fit(x_small, y_small)\n",
    "grid.best_params_"
   ]
  },
  {
   "cell_type": "code",
   "execution_count": 32,
   "metadata": {},
   "outputs": [
    {
     "name": "stdout",
     "output_type": "stream",
     "text": [
      "Accuracy Score: 0.7650\n",
      "SVC f1-score  : 0.3109\n",
      "SVC precision : 0.1886\n",
      "SVC recall    : 0.8833\n",
      "\n",
      "               precision    recall  f1-score   support\n",
      "\n",
      "           0       0.99      0.76      0.86       940\n",
      "           1       0.19      0.88      0.31        60\n",
      "\n",
      "    accuracy                           0.77      1000\n",
      "   macro avg       0.59      0.82      0.58      1000\n",
      "weighted avg       0.94      0.77      0.83      1000\n",
      "\n"
     ]
    }
   ],
   "source": [
    "# After finding best hyper parameter, apply the model again\n",
    "svc = SVC(C=0.1, gamma=0.1, kernel=\"poly\")\n",
    "svc.fit(x_train, y_train)\n",
    "\n",
    "y_pred = svc.predict(x_test)\n",
    "\n",
    "print(\"Accuracy Score: {:.4f}\".format(accuracy_score(y_test, y_pred)))\n",
    "print(\"SVC f1-score  : {:.4f}\".format(f1_score(y_pred, y_test)))\n",
    "print(\"SVC precision : {:.4f}\".format(precision_score(y_pred, y_test)))\n",
    "print(\"SVC recall    : {:.4f}\".format(recall_score(y_pred, y_test)))\n",
    "print(\"\\n\", classification_report(y_pred, y_test))"
   ]
  },
  {
   "cell_type": "markdown",
   "metadata": {},
   "source": [
    "#### Even after hyperparameter search, no much difference in accuracy. Because of below imbalance in the dataset. I will now try the SMOTE process to improve the accuracy"
   ]
  },
  {
   "cell_type": "code",
   "execution_count": 33,
   "metadata": {},
   "outputs": [
    {
     "data": {
      "text/plain": [
       "CreditCard\n",
       "0    3530\n",
       "1    1470\n",
       "Name: count, dtype: int64"
      ]
     },
     "execution_count": 33,
     "metadata": {},
     "output_type": "execute_result"
    }
   ],
   "source": [
    "y.value_counts()"
   ]
  },
  {
   "cell_type": "markdown",
   "metadata": {},
   "source": [
    "### SMOTE (Synthetic Minority Oversampling Technique) process"
   ]
  },
  {
   "cell_type": "code",
   "execution_count": 34,
   "metadata": {},
   "outputs": [
    {
     "name": "stdout",
     "output_type": "stream",
     "text": [
      "Found existing installation: scikit-learn 1.2.2\n",
      "Uninstalling scikit-learn-1.2.2:\n",
      "  Successfully uninstalled scikit-learn-1.2.2\n",
      "Found existing installation: imblearn 0.0\n",
      "Uninstalling imblearn-0.0:\n",
      "  Successfully uninstalled imblearn-0.0\n",
      "Collecting scikit-learn==1.2.2\n",
      "  Using cached scikit_learn-1.2.2-cp311-cp311-macosx_12_0_arm64.whl.metadata (11 kB)\n",
      "Requirement already satisfied: numpy>=1.17.3 in /Users/aziz.zoaib/anaconda3/lib/python3.11/site-packages (from scikit-learn==1.2.2) (1.24.3)\n",
      "Requirement already satisfied: scipy>=1.3.2 in /Users/aziz.zoaib/anaconda3/lib/python3.11/site-packages (from scikit-learn==1.2.2) (1.11.1)\n",
      "Requirement already satisfied: joblib>=1.1.1 in /Users/aziz.zoaib/anaconda3/lib/python3.11/site-packages (from scikit-learn==1.2.2) (1.2.0)\n",
      "Requirement already satisfied: threadpoolctl>=2.0.0 in /Users/aziz.zoaib/anaconda3/lib/python3.11/site-packages (from scikit-learn==1.2.2) (3.5.0)\n",
      "Using cached scikit_learn-1.2.2-cp311-cp311-macosx_12_0_arm64.whl (8.4 MB)\n",
      "Installing collected packages: scikit-learn\n",
      "Successfully installed scikit-learn-1.2.2\n",
      "\n",
      "\u001b[1m[\u001b[0m\u001b[34;49mnotice\u001b[0m\u001b[1;39;49m]\u001b[0m\u001b[39;49m A new release of pip is available: \u001b[0m\u001b[31;49m24.0\u001b[0m\u001b[39;49m -> \u001b[0m\u001b[32;49m24.1.1\u001b[0m\n",
      "\u001b[1m[\u001b[0m\u001b[34;49mnotice\u001b[0m\u001b[1;39;49m]\u001b[0m\u001b[39;49m To update, run: \u001b[0m\u001b[32;49mpip install --upgrade pip\u001b[0m\n",
      "Collecting imblearn\n",
      "  Using cached imblearn-0.0-py2.py3-none-any.whl.metadata (355 bytes)\n",
      "Requirement already satisfied: imbalanced-learn in /Users/aziz.zoaib/anaconda3/lib/python3.11/site-packages (from imblearn) (0.12.3)\n",
      "Requirement already satisfied: numpy>=1.17.3 in /Users/aziz.zoaib/anaconda3/lib/python3.11/site-packages (from imbalanced-learn->imblearn) (1.24.3)\n",
      "Requirement already satisfied: scipy>=1.5.0 in /Users/aziz.zoaib/anaconda3/lib/python3.11/site-packages (from imbalanced-learn->imblearn) (1.11.1)\n",
      "Requirement already satisfied: scikit-learn>=1.0.2 in /Users/aziz.zoaib/anaconda3/lib/python3.11/site-packages (from imbalanced-learn->imblearn) (1.2.2)\n",
      "Requirement already satisfied: joblib>=1.1.1 in /Users/aziz.zoaib/anaconda3/lib/python3.11/site-packages (from imbalanced-learn->imblearn) (1.2.0)\n",
      "Requirement already satisfied: threadpoolctl>=2.0.0 in /Users/aziz.zoaib/anaconda3/lib/python3.11/site-packages (from imbalanced-learn->imblearn) (3.5.0)\n",
      "Using cached imblearn-0.0-py2.py3-none-any.whl (1.9 kB)\n",
      "Installing collected packages: imblearn\n",
      "Successfully installed imblearn-0.0\n",
      "\n",
      "\u001b[1m[\u001b[0m\u001b[34;49mnotice\u001b[0m\u001b[1;39;49m]\u001b[0m\u001b[39;49m A new release of pip is available: \u001b[0m\u001b[31;49m24.0\u001b[0m\u001b[39;49m -> \u001b[0m\u001b[32;49m24.1.1\u001b[0m\n",
      "\u001b[1m[\u001b[0m\u001b[34;49mnotice\u001b[0m\u001b[1;39;49m]\u001b[0m\u001b[39;49m To update, run: \u001b[0m\u001b[32;49mpip install --upgrade pip\u001b[0m\n",
      "x_train Shape :  (5648, 11)\n",
      "x_test Shape  :  (1412, 11)\n",
      "y_train Shape :  (5648,)\n",
      "y_test Shape  :  (1412,)\n"
     ]
    }
   ],
   "source": [
    "!pip uninstall scikit-learn --yes\n",
    "!pip uninstall imblearn --yes\n",
    "!pip install scikit-learn==1.2.2\n",
    "!pip install imblearn\n",
    "from imblearn.over_sampling import SMOTE\n",
    "\n",
    "sms = SMOTE(random_state=42)\n",
    "X_res, y_res = sms.fit_resample(x, y)\n",
    "x_train, x_test, y_train, y_test = train_test_split(\n",
    "    X_res, y_res, test_size=0.2, random_state=42\n",
    ")\n",
    "y_train = y_train.values.ravel()\n",
    "y_test = y_test.values.ravel()\n",
    "\n",
    "print(\"x_train Shape : \", x_train.shape)\n",
    "print(\"x_test Shape  : \", x_test.shape)\n",
    "print(\"y_train Shape : \", y_train.shape)\n",
    "print(\"y_test Shape  : \", y_test.shape)"
   ]
  },
  {
   "cell_type": "code",
   "execution_count": 35,
   "metadata": {},
   "outputs": [
    {
     "name": "stdout",
     "output_type": "stream",
     "text": [
      "Accuracy Score: 0.6027\n",
      "SVC f1-score  : 0.6202\n",
      "SVC precision : 0.6580\n",
      "SVC recall    : 0.5864\n",
      "\n",
      "               precision    recall  f1-score   support\n",
      "\n",
      "           0       0.55      0.62      0.58       631\n",
      "           1       0.66      0.59      0.62       781\n",
      "\n",
      "    accuracy                           0.60      1412\n",
      "   macro avg       0.60      0.60      0.60      1412\n",
      "weighted avg       0.61      0.60      0.60      1412\n",
      "\n"
     ]
    }
   ],
   "source": [
    "# After SMOTE, basic method without any hyperparameter search\n",
    "svc = SVC()\n",
    "svc.fit(x_train, y_train)\n",
    "\n",
    "y_pred = svc.predict(x_test)\n",
    "\n",
    "print(\"Accuracy Score: {:.4f}\".format(accuracy_score(y_test, y_pred)))\n",
    "print(\"SVC f1-score  : {:.4f}\".format(f1_score(y_pred, y_test)))\n",
    "print(\"SVC precision : {:.4f}\".format(precision_score(y_pred, y_test)))\n",
    "print(\"SVC recall    : {:.4f}\".format(recall_score(y_pred, y_test)))\n",
    "print(\"\\n\", classification_report(y_pred, y_test))"
   ]
  },
  {
   "cell_type": "markdown",
   "metadata": {},
   "source": [
    "#### Hyperparameter Search after SMOTE"
   ]
  },
  {
   "cell_type": "code",
   "execution_count": 36,
   "metadata": {},
   "outputs": [
    {
     "data": {
      "text/plain": [
       "{'C': 1, 'gamma': 1, 'kernel': 'rbf'}"
      ]
     },
     "execution_count": 36,
     "metadata": {},
     "output_type": "execute_result"
    }
   ],
   "source": [
    "#Use 20% of the data after the SMOTE process\n",
    "x_small, _, y_small, _ = train_test_split(x_train, y_train, train_size=0.2)\n",
    "\n",
    "# Find best parameters with SVC after SMOTE process\n",
    "kernels = list([\"linear\", \"rbf\", \"poly\", \"sigmoid\"])\n",
    "c = list([0.001, 0.01, 0.1, 1])\n",
    "gammas = list([0.1, 1])\n",
    "\n",
    "svc = SVC()\n",
    "svc.fit(x_train, y_train)\n",
    "\n",
    "\n",
    "param_grid = dict(kernel=kernels, C=c, gamma=gammas)\n",
    "grid = GridSearchCV(svc, param_grid, cv=10, n_jobs=-1)\n",
    "grid.fit(x_small, y_small)\n",
    "grid.best_params_"
   ]
  },
  {
   "cell_type": "code",
   "execution_count": 37,
   "metadata": {},
   "outputs": [
    {
     "name": "stdout",
     "output_type": "stream",
     "text": [
      "Accuracy Score: 0.7075\n",
      "SVC f1-score  : 0.7146\n",
      "SVC precision : 0.7428\n",
      "SVC recall    : 0.6884\n",
      "\n",
      "               precision    recall  f1-score   support\n",
      "\n",
      "           0       0.67      0.73      0.70       661\n",
      "           1       0.74      0.69      0.71       751\n",
      "\n",
      "    accuracy                           0.71      1412\n",
      "   macro avg       0.71      0.71      0.71      1412\n",
      "weighted avg       0.71      0.71      0.71      1412\n",
      "\n"
     ]
    }
   ],
   "source": [
    "# After finding best hyper parameter, apply the model again after the SMOTE process\n",
    "svc = SVC(C=1, gamma=1, kernel=\"rbf\")\n",
    "svc.fit(x_train, y_train)\n",
    "\n",
    "y_pred = svc.predict(x_test)\n",
    "\n",
    "print(\"Accuracy Score: {:.4f}\".format(accuracy_score(y_test, y_pred)))\n",
    "print(\"SVC f1-score  : {:.4f}\".format(f1_score(y_pred, y_test)))\n",
    "print(\"SVC precision : {:.4f}\".format(precision_score(y_pred, y_test)))\n",
    "print(\"SVC recall    : {:.4f}\".format(recall_score(y_pred, y_test)))\n",
    "print(\"\\n\", classification_report(y_pred, y_test))"
   ]
  },
  {
   "cell_type": "markdown",
   "metadata": {},
   "source": [
    "### Final conclusion points\n",
    "\n",
    "#### The SMOTE (Synthetic Minority Over-sampling Technique) process proved to be a very effective method for addressing class imbalance in our banking dataset. It helped in:\n",
    "\n",
    "1. Balancing the Dataset\n",
    "2. Improved Model Performance\n",
    "3. Prevention of Overfitting\n",
    "\n",
    "#### We can observe from above classification report that, f1, recall and precision has improved a lot."
   ]
  }
 ],
 "metadata": {
  "kernelspec": {
   "display_name": "base",
   "language": "python",
   "name": "python3"
  },
  "language_info": {
   "codemirror_mode": {
    "name": "ipython",
    "version": 3
   },
   "file_extension": ".py",
   "mimetype": "text/x-python",
   "name": "python",
   "nbconvert_exporter": "python",
   "pygments_lexer": "ipython3",
   "version": "3.11.5"
  }
 },
 "nbformat": 4,
 "nbformat_minor": 2
}
